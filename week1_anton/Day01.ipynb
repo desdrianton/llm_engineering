{
 "cells": [
  {
   "cell_type": "code",
   "id": "e406efbd-5663-406e-bd33-9a2f928b9fc7",
   "metadata": {
    "ExecuteTime": {
     "end_time": "2025-01-05T12:16:45.890112Z",
     "start_time": "2025-01-05T12:16:45.872031Z"
    }
   },
   "source": [
    "import os\n",
    "import requests\n",
    "from dotenv import load_dotenv\n",
    "from bs4 import BeautifulSoup\n",
    "from IPython.display import Markdown, display\n",
    "from openai import OpenAI"
   ],
   "outputs": [],
   "execution_count": 27
  },
  {
   "cell_type": "code",
   "id": "1be76657-7059-476f-b92e-0bfe2dfd8d34",
   "metadata": {
    "ExecuteTime": {
     "end_time": "2025-01-05T12:16:46.239633Z",
     "start_time": "2025-01-05T12:16:45.905914Z"
    }
   },
   "source": [
    "load_dotenv()\n",
    "api_key = os.getenv('OPENAI_API_KEY')\n",
    "openai = OpenAI()"
   ],
   "outputs": [],
   "execution_count": 28
  },
  {
   "cell_type": "code",
   "id": "30c6d2ee-61fc-42cc-a429-735446127bd9",
   "metadata": {
    "ExecuteTime": {
     "end_time": "2025-01-05T12:16:46.269395Z",
     "start_time": "2025-01-05T12:16:46.259875Z"
    }
   },
   "source": [
    "headers = {\n",
    " \"User-Agent\": \"Mozilla/5.0 (Windows NT 10.0; Win64; x64) AppleWebKit/537.36 (KHTML, like Gecko) Chrome/117.0.0.0 Safari/537.36\"\n",
    "}\n",
    "\n",
    "class Website:\n",
    "    url: str\n",
    "    title: str\n",
    "    text: str\n",
    "\n",
    "    def __init__(self, url):\n",
    "        self.url = url\n",
    "        response = requests.get(url, headers=headers)\n",
    "        soup = BeautifulSoup(response.content, 'html.parser')\n",
    "        self.title = soup.title.string if soup.title else \"No title found\"\n",
    "        for irrelevant in soup.body([\"script\", \"style\", \"img\", \"input\"]):\n",
    "            irrelevant.decompose()\n",
    "        self.text = soup.body.get_text(separator=\"\\n\", strip=True)\n"
   ],
   "outputs": [],
   "execution_count": 29
  },
  {
   "metadata": {
    "ExecuteTime": {
     "end_time": "2025-01-05T12:16:46.319707Z",
     "start_time": "2025-01-05T12:16:46.314657Z"
    }
   },
   "cell_type": "code",
   "source": [
    "def user_prompt_for(website):\n",
    "    user_prompt = f\"You are looking at a website titled {website.title}\"\n",
    "    user_prompt += \"\\nThe contents of this website is as follows; \\\n",
    "please provide a short summary of this website in markdown. \\\n",
    "If it includes news or announcements, then summarize these too.\\n\\n\"\n",
    "    user_prompt += website.text\n",
    "    return user_prompt\n"
   ],
   "id": "e1dfde50c87218af",
   "outputs": [],
   "execution_count": 30
  },
  {
   "metadata": {
    "ExecuteTime": {
     "end_time": "2025-01-05T12:16:46.345267Z",
     "start_time": "2025-01-05T12:16:46.335365Z"
    }
   },
   "cell_type": "code",
   "source": [
    "def messages_for(website):\n",
    "    system_prompt = \"You are an assistant that analyzes the contents of a website \\\n",
    "and provides a short summary, ignoring text that might be navigation related. \\\n",
    "Respond in markdown.\"\n",
    "\n",
    "    return [\n",
    "        {\"role\": \"system\", \"content\": system_prompt},\n",
    "        {\"role\": \"user\", \"content\": user_prompt_for(website)}\n",
    "    ]\n"
   ],
   "id": "347940ed259fa6",
   "outputs": [],
   "execution_count": 31
  },
  {
   "metadata": {
    "ExecuteTime": {
     "end_time": "2025-01-05T12:16:46.392138Z",
     "start_time": "2025-01-05T12:16:46.386682Z"
    }
   },
   "cell_type": "code",
   "source": [
    "def summarize(url):\n",
    "    website = Website(url)\n",
    "    response = openai.chat.completions.create(\n",
    "        model = \"gpt-4o-mini\",\n",
    "        messages = messages_for(website)\n",
    "    )\n",
    "\n",
    "    return response.choices[0].message.content"
   ],
   "id": "99b567420df18745",
   "outputs": [],
   "execution_count": 32
  },
  {
   "metadata": {
    "ExecuteTime": {
     "end_time": "2025-01-05T12:16:46.403203Z",
     "start_time": "2025-01-05T12:16:46.392138Z"
    }
   },
   "cell_type": "code",
   "source": [
    "def display_summary(url):\n",
    "    summary = summarize(url)\n",
    "    display(Markdown(summary))\n"
   ],
   "id": "f34a04ebb42d852d",
   "outputs": [],
   "execution_count": 33
  },
  {
   "metadata": {
    "ExecuteTime": {
     "end_time": "2025-01-05T12:18:35.690106Z",
     "start_time": "2025-01-05T12:18:31.004754Z"
    }
   },
   "cell_type": "code",
   "source": [
    "# url = \"https://www.prosigmaka.com\"\n",
    "# url = \"https://www.prodemy.id\"\n",
    "url = \"http://www.detik.com\"\n",
    "\n",
    "display_summary(url)"
   ],
   "id": "f667d4cc2da68504",
   "outputs": [
    {
     "data": {
      "text/plain": [
       "<IPython.core.display.Markdown object>"
      ],
      "text/markdown": "# Summary of Detikcom\n\n**Detikcom** is a leading Indonesian news website that provides the latest reliable news and updates across various categories including politics, finance, technology, health, sports, and lifestyle.\n\n### Recent News Highlights\n\n- **Alvin Lim's Passing**: Notable lawyer Alvin Lim has passed away, with related articles discussing his legacy and previous contributions.\n- **Football Updates**: Liverpool and Manchester United have agreed to proceed with their scheduled match despite adverse weather conditions.\n- **Cultural Critique**: The drama \"When The Phone Rings\" has faced criticism for its portrayal of Palestine.\n- **Accident Reports**: A serious multi-vehicle accident on the Cipularang toll road has been reported.\n- **Health Concerns**: Malaysia has recorded 327 cases of HMPV, a respiratory illness trending in China.\n\n### Additional Noteworthy Developments\n\n- **Consumer News**: There are significant discounts on large-sized \"kecap\" at Transmart.\n- **Cultural Events**: The website also features event information and suggests exciting activities for audiences looking for entertainment.\n\nThe site includes various sections dedicated to different interests, making it a comprehensive source for Indonesian news and entertainment."
     },
     "metadata": {},
     "output_type": "display_data"
    }
   ],
   "execution_count": 37
  }
 ],
 "metadata": {
  "kernelspec": {
   "display_name": "Python 3 (ipykernel)",
   "language": "python",
   "name": "python3"
  },
  "language_info": {
   "codemirror_mode": {
    "name": "ipython",
    "version": 3
   },
   "file_extension": ".py",
   "mimetype": "text/x-python",
   "name": "python",
   "nbconvert_exporter": "python",
   "pygments_lexer": "ipython3",
   "version": "3.12.8"
  }
 },
 "nbformat": 4,
 "nbformat_minor": 5
}
