{
 "cells": [
  {
   "cell_type": "code",
   "id": "initial_id",
   "metadata": {
    "collapsed": true,
    "ExecuteTime": {
     "end_time": "2025-01-25T10:48:47.355973Z",
     "start_time": "2025-01-25T10:48:46.363349Z"
    }
   },
   "source": [
    "import json\n",
    "import os\n",
    "from typing import *\n",
    "\n",
    "from dotenv import load_dotenv\n",
    "from openai import OpenAI\n",
    "\n",
    "from web_retriever import *"
   ],
   "outputs": [],
   "execution_count": 1
  },
  {
   "metadata": {},
   "cell_type": "markdown",
   "source": "# 1. Analyze Important Link",
   "id": "24044fd7c9283087"
  },
  {
   "metadata": {
    "ExecuteTime": {
     "end_time": "2025-01-25T10:51:25.267681Z",
     "start_time": "2025-01-25T10:51:25.261230Z"
    }
   },
   "cell_type": "code",
   "source": [
    "# class ImportantLinkAnalyzerAgent:\n",
    "#     __url: str\n",
    "#     __links: Set[str]\n",
    "#\n",
    "#     def __init__(self, *, url: str, links: Set[str]):\n",
    "#         self.__url = url\n",
    "#         self.__links = links\n",
    "#\n",
    "#     def __generate_user_prompt(self) -> str:\n",
    "#         user_prompt = f\"Here is the list of links on the website of {self.__url} - \"\n",
    "#         user_prompt += \"please decide which of these are relevant web links for a brochure about the company, respond with the full https URL in JSON format. Do not include Terms of Service, Privacy, email links.\\n\"\n",
    "#         user_prompt += \"Links (some might be relative links):\\n\"\n",
    "#         user_prompt += \"\\n\".join(self.__links)\n",
    "#\n",
    "#         return user_prompt\n",
    "#\n",
    "#     @staticmethod\n",
    "#     def __generate_system_prompt() -> str:\n",
    "#         system_prompt = \"You are provided with a list of links found on a webpage. You are able to decide which of the links would be most relevant to include in a brochure about the company, such as links to an About page, or a Company page, or Careers/Jobs pages.\\n\"\n",
    "#         system_prompt += \"You should respond in JSON as in this example:\"\n",
    "#         system_prompt += \"\"\"\n",
    "#             {\n",
    "#                 \"links\": [\n",
    "#                     {\"type\": \"about page\", \"url\": \"https://full.url/goes/here/about\"},\n",
    "#                     {\"type\": \"careers page\": \"url\": \"https://another.full.url/careers\"}\n",
    "#                 ]\n",
    "#             }\"\"\"\n",
    "#\n",
    "#         return system_prompt\n",
    "#\n",
    "#     def generate_message(self):\n",
    "#         _user_prompt = self.__generate_user_prompt()\n",
    "#         return [\n",
    "#             {\"role\": \"system\", \"content\": ImportantLinkAnalyzerAgent.__generate_system_prompt()},\n",
    "#             {\"role\": \"user\", \"content\": self.__generate_user_prompt()},\n",
    "#         ]\n",
    "#\n",
    "#     def ask(self):\n",
    "#         load_dotenv()\n",
    "#         os.getenv('OPENAI_API_KEY')\n",
    "#         openai = OpenAI()\n",
    "#         response = openai.chat.completions.create(\n",
    "#             model = \"gpt-4o-mini\",\n",
    "#             messages = self.generate_message(),\n",
    "#             response_format={ \"type\": \"json_object\" }\n",
    "#         )\n",
    "#\n",
    "#         return response.choices[0].message.content"
   ],
   "id": "a17df93f55b88ab9",
   "outputs": [],
   "execution_count": 6
  },
  {
   "metadata": {
    "ExecuteTime": {
     "end_time": "2025-01-25T10:45:29.430947Z",
     "start_time": "2025-01-25T10:45:29.217627Z"
    }
   },
   "cell_type": "code",
   "source": [
    "# # url_on_test = \"https://www.prosigmaka.com\"\n",
    "# url_on_test = \"https://www.detik.com\"\n",
    "# webRetriever = WebRetriever(url=url_on_test)\n",
    "# webRetriever.retrieve()\n",
    "# links = webRetriever.generate_links()"
   ],
   "id": "6748ef6bf1dae01d",
   "outputs": [],
   "execution_count": 3
  },
  {
   "metadata": {
    "ExecuteTime": {
     "end_time": "2025-01-25T10:45:32.433097Z",
     "start_time": "2025-01-25T10:45:29.440164Z"
    }
   },
   "cell_type": "code",
   "source": [
    "# importantLinkAnalyzerAgent = ImportantLinkAnalyzerAgent(url=url_on_test, links=links)\n",
    "# important_links = importantLinkAnalyzerAgent.ask()\n",
    "# important_links_json = json.loads(important_links)\n",
    "# print(important_links)\n",
    "# print(important_links_json)"
   ],
   "id": "ffb8780d9144698e",
   "outputs": [
    {
     "name": "stdout",
     "output_type": "stream",
     "text": [
      "{\n",
      "    \"links\": [\n",
      "        {\"type\": \"company page\", \"url\": \"https://www.detik.com\"},\n",
      "        {\"type\": \"careers page\", \"url\": \"https://karir.detik.com/\"},\n",
      "        {\"type\": \"about page\", \"url\": \"https://www.detik.com/redaksi\"},\n",
      "        {\"type\": \"media partner page\", \"url\": \"https://www.detik.com/media-partner\"},\n",
      "        {\"type\": \"signature awards page\", \"url\": \"https://www.detik.com/signature-awards\"},\n",
      "        {\"type\": \"contact page\", \"url\": \"https://www.detik.com/kotak-pos\"},\n",
      "        {\"type\": \"social media page\", \"url\": \"https://www.linkedin.com/company/detik-com/\"}\n",
      "    ]\n",
      "}\n",
      "{'links': [{'type': 'company page', 'url': 'https://www.detik.com'}, {'type': 'careers page', 'url': 'https://karir.detik.com/'}, {'type': 'about page', 'url': 'https://www.detik.com/redaksi'}, {'type': 'media partner page', 'url': 'https://www.detik.com/media-partner'}, {'type': 'signature awards page', 'url': 'https://www.detik.com/signature-awards'}, {'type': 'contact page', 'url': 'https://www.detik.com/kotak-pos'}, {'type': 'social media page', 'url': 'https://www.linkedin.com/company/detik-com/'}]}\n"
     ]
    }
   ],
   "execution_count": 4
  },
  {
   "metadata": {
    "ExecuteTime": {
     "end_time": "2025-01-25T10:52:39.988521Z",
     "start_time": "2025-01-25T10:52:39.981459Z"
    }
   },
   "cell_type": "code",
   "source": [
    "\n",
    "\n",
    "\n",
    "class SomeClass:\n",
    "    def sayHello(self):\n",
    "        print(\"Hello World!\")"
   ],
   "id": "d5fadb48028dec7c",
   "outputs": [],
   "execution_count": 9
  },
  {
   "metadata": {},
   "cell_type": "markdown",
   "source": "# 2. Make The Brochure",
   "id": "e8a6261bb4c1cec4"
  },
  {
   "metadata": {
    "ExecuteTime": {
     "end_time": "2025-01-25T10:51:33.315494Z",
     "start_time": "2025-01-25T10:51:30.887107Z"
    }
   },
   "cell_type": "code",
   "source": [
    "def find_important_web_information(*, url: str) -> str:\n",
    "    SomeClass()\n",
    "    ImportantLinkAnalyzerAgent()\n",
    "\n",
    "    web_information = f\"Landing page for: {url}\"\n",
    "    webRetriever = WebRetriever(url=url)\n",
    "    webRetriever.retrieve()\n",
    "    links = webRetriever.generate_links()\n",
    "    print(links)\n",
    "    ImportantLinkAnalyzerAgent.__generate_system_prompt()\n",
    "    ImportantLinkAnalyzerAgent = ImportantLinkAnalyzerAgent(url=url, links=links)\n",
    "    important_links = importantLinkAnalyzerAgent.ask()\n",
    "    important_links_json = json.loads(important_links)\n",
    "\n",
    "    return important_links_json\n",
    "\n",
    "url_on_test = \"https://www.prosigmaka.com\"\n",
    "find_important_web_information(url=url_on_test)"
   ],
   "id": "143cd94df52c0d91",
   "outputs": [
    {
     "name": "stdout",
     "output_type": "stream",
     "text": [
      "{'https://prosigmaka.com/prodemy/', 'https://prosigmaka.com/article/', 'https://www.facebook.com/prosigmaka/', 'mailto:info@prosigmaka.com', '#services', 'tel:+622126964403', 'https://www.instagram.com/prosigmaka/?hl=id', 'https://prosigmaka.com/find-jobs/', 'https://prosigmaka.com/tech-click/', 'https://www.linkedin.com/company/prosigmaka', 'https://vt.tiktok.com/ZSdcgyo6b/', 'https://prosigmaka.com/', '/find-jobs/'}\n"
     ]
    },
    {
     "ename": "UnboundLocalError",
     "evalue": "cannot access local variable 'ImportantLinkAnalyzerAgent' where it is not associated with a value",
     "output_type": "error",
     "traceback": [
      "\u001B[1;31m---------------------------------------------------------------------------\u001B[0m",
      "\u001B[1;31mUnboundLocalError\u001B[0m                         Traceback (most recent call last)",
      "Cell \u001B[1;32mIn[8], line 16\u001B[0m\n\u001B[0;32m     13\u001B[0m     \u001B[38;5;28;01mreturn\u001B[39;00m important_links_json\n\u001B[0;32m     15\u001B[0m url_on_test \u001B[38;5;241m=\u001B[39m \u001B[38;5;124m\"\u001B[39m\u001B[38;5;124mhttps://www.prosigmaka.com\u001B[39m\u001B[38;5;124m\"\u001B[39m\n\u001B[1;32m---> 16\u001B[0m \u001B[43mfind_important_web_information\u001B[49m\u001B[43m(\u001B[49m\u001B[43murl\u001B[49m\u001B[38;5;241;43m=\u001B[39;49m\u001B[43murl_on_test\u001B[49m\u001B[43m)\u001B[49m\n",
      "Cell \u001B[1;32mIn[8], line 9\u001B[0m, in \u001B[0;36mfind_important_web_information\u001B[1;34m(url)\u001B[0m\n\u001B[0;32m      7\u001B[0m links \u001B[38;5;241m=\u001B[39m webRetriever\u001B[38;5;241m.\u001B[39mgenerate_links()\n\u001B[0;32m      8\u001B[0m \u001B[38;5;28mprint\u001B[39m(links)\n\u001B[1;32m----> 9\u001B[0m ImportantLinkAnalyzerAgent \u001B[38;5;241m=\u001B[39m \u001B[43mImportantLinkAnalyzerAgent\u001B[49m(url\u001B[38;5;241m=\u001B[39murl, links\u001B[38;5;241m=\u001B[39mlinks)\n\u001B[0;32m     10\u001B[0m important_links \u001B[38;5;241m=\u001B[39m importantLinkAnalyzerAgent\u001B[38;5;241m.\u001B[39mask()\n\u001B[0;32m     11\u001B[0m important_links_json \u001B[38;5;241m=\u001B[39m json\u001B[38;5;241m.\u001B[39mloads(important_links)\n",
      "\u001B[1;31mUnboundLocalError\u001B[0m: cannot access local variable 'ImportantLinkAnalyzerAgent' where it is not associated with a value"
     ]
    }
   ],
   "execution_count": 8
  }
 ],
 "metadata": {
  "kernelspec": {
   "display_name": "Python 3",
   "language": "python",
   "name": "python3"
  },
  "language_info": {
   "codemirror_mode": {
    "name": "ipython",
    "version": 2
   },
   "file_extension": ".py",
   "mimetype": "text/x-python",
   "name": "python",
   "nbconvert_exporter": "python",
   "pygments_lexer": "ipython2",
   "version": "2.7.6"
  }
 },
 "nbformat": 4,
 "nbformat_minor": 5
}
