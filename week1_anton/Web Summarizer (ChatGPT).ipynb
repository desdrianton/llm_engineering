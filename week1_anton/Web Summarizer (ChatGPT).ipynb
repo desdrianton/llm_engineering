{
 "cells": [
  {
   "cell_type": "code",
   "id": "e406efbd-5663-406e-bd33-9a2f928b9fc7",
   "metadata": {
    "ExecuteTime": {
     "end_time": "2025-01-21T01:28:37.437032Z",
     "start_time": "2025-01-21T01:28:37.433626Z"
    }
   },
   "source": [
    "import os\n",
    "import requests\n",
    "from dotenv import load_dotenv\n",
    "from bs4 import BeautifulSoup\n",
    "from IPython.display import Markdown, display\n",
    "from openai import OpenAI"
   ],
   "outputs": [],
   "execution_count": 11
  },
  {
   "cell_type": "code",
   "id": "1be76657-7059-476f-b92e-0bfe2dfd8d34",
   "metadata": {
    "ExecuteTime": {
     "end_time": "2025-01-21T01:28:37.749845Z",
     "start_time": "2025-01-21T01:28:37.464627Z"
    }
   },
   "source": [
    "load_dotenv()\n",
    "api_key = os.getenv('OPENAI_API_KEY')\n",
    "openai = OpenAI()"
   ],
   "outputs": [],
   "execution_count": 12
  },
  {
   "cell_type": "code",
   "id": "30c6d2ee-61fc-42cc-a429-735446127bd9",
   "metadata": {
    "ExecuteTime": {
     "end_time": "2025-01-21T01:28:37.762413Z",
     "start_time": "2025-01-21T01:28:37.749845Z"
    }
   },
   "source": [
    "headers = {\n",
    " \"User-Agent\": \"Mozilla/5.0 (Windows NT 10.0; Win64; x64) AppleWebKit/537.36 (KHTML, like Gecko) Chrome/117.0.0.0 Safari/537.36\"\n",
    "}\n",
    "\n",
    "class Website:\n",
    "    url: str\n",
    "    title: str\n",
    "    text: str\n",
    "\n",
    "    def __init__(self, url):\n",
    "        self.url = url\n",
    "        response = requests.get(url, headers=headers)\n",
    "        soup = BeautifulSoup(response.content, 'html.parser')\n",
    "        self.title = soup.title.string if soup.title else \"No title found\"\n",
    "        for irrelevant in soup.body([\"script\", \"style\", \"img\", \"input\"]):\n",
    "            irrelevant.decompose()\n",
    "        self.text = soup.body.get_text(separator=\"\\n\", strip=True)\n"
   ],
   "outputs": [],
   "execution_count": 13
  },
  {
   "metadata": {
    "ExecuteTime": {
     "end_time": "2025-01-21T01:28:37.773418Z",
     "start_time": "2025-01-21T01:28:37.768589Z"
    }
   },
   "cell_type": "code",
   "source": [
    "def user_prompt_for(website):\n",
    "    user_prompt = f\"You are looking at a website titled {website.title}\"\n",
    "    user_prompt += \"\\nThe contents of this website is as follows; \\\n",
    "please provide a short summary of this website in markdown. \\\n",
    "If it includes news or announcements, then summarize these too.\\n\\n\"\n",
    "    user_prompt += website.text\n",
    "    return user_prompt\n"
   ],
   "id": "e1dfde50c87218af",
   "outputs": [],
   "execution_count": 14
  },
  {
   "metadata": {
    "ExecuteTime": {
     "end_time": "2025-01-21T01:28:37.784933Z",
     "start_time": "2025-01-21T01:28:37.779102Z"
    }
   },
   "cell_type": "code",
   "source": [
    "def messages_for(website):\n",
    "\n",
    "    system_prompt = \"You are an assistant that analyzes the contents of a website \\\n",
    "and provides a short summary, ignoring text that might be navigation related. \\\n",
    "Respond in markdown.\"\n",
    "    return [\n",
    "        {\"role\": \"system\", \"content\": system_prompt},\n",
    "        {\"role\": \"user\", \"content\": user_prompt_for(website)}\n",
    "    ]\n"
   ],
   "id": "347940ed259fa6",
   "outputs": [],
   "execution_count": 15
  },
  {
   "metadata": {
    "ExecuteTime": {
     "end_time": "2025-01-21T01:28:37.809919Z",
     "start_time": "2025-01-21T01:28:37.805160Z"
    }
   },
   "cell_type": "code",
   "source": [
    "def summarize(url):\n",
    "    website = Website(url)\n",
    "    response = openai.chat.completions.create(\n",
    "        model = \"gpt-4o-mini\",\n",
    "        messages = messages_for(website)\n",
    "    )\n",
    "\n",
    "    return response.choices[0].message.content"
   ],
   "id": "99b567420df18745",
   "outputs": [],
   "execution_count": 16
  },
  {
   "metadata": {
    "ExecuteTime": {
     "end_time": "2025-01-21T01:28:37.820850Z",
     "start_time": "2025-01-21T01:28:37.809919Z"
    }
   },
   "cell_type": "code",
   "source": [
    "def display_summary(url):\n",
    "    summary = summarize(url)\n",
    "    display(Markdown(summary))\n"
   ],
   "id": "f34a04ebb42d852d",
   "outputs": [],
   "execution_count": 17
  },
  {
   "metadata": {
    "ExecuteTime": {
     "end_time": "2025-01-21T01:28:41.909113Z",
     "start_time": "2025-01-21T01:28:37.827076Z"
    }
   },
   "cell_type": "code",
   "source": [
    "# url = \"https://www.prosigmaka.com\"\n",
    "# url = \"https://www.prodemy.id\"\n",
    "# url = \"http://www.detik.com\"\n",
    "# url = \"http://www.tempo.co\"\n",
    "url = \"https://www.kompas.com/\"\n",
    "\n",
    "\n",
    "display_summary(url)"
   ],
   "id": "f667d4cc2da68504",
   "outputs": [
    {
     "data": {
      "text/plain": [
       "<IPython.core.display.Markdown object>"
      ],
      "text/markdown": "# Summary of Kompas.com\n\nKompas.com is a prominent news website that provides the latest, accurate, and trustworthy news in Indonesia. The website covers a wide range of topics including national news, politics, health, technology, sports, and lifestyle. It serves as a platform for various news categories, such as regional updates, corporate news, educational content, and travel insights.\n\n## Recent Headlines:\n1. **Political Updates**: The site features articles on recent surveys revealing popular political figures and ongoing controversies regarding public figure actions, including Mendikti Satryo's response to accusations.\n2. **Public Health Initiatives**: Announcements about free health check-up programs spearheaded by the Ministry of Health have been highlighted.\n3. **Environmental Issues**: Coverage on the continuing demolition of illegal sea fences in Tangerang despite requests from the Minister of Maritime Affairs and Fisheries to halt the process.\n4. **Economic Insights**: Discussions surrounding the rising Bitcoin prices and their connection to the recent political climate.\n5. **Social Affairs**: Stories about public responses to community hardships, such as a resident's struggles that highlight broader economic challenges.\n\nOverall, Kompas.com aims to inform readers with comprehensive news and analysis on current events affecting Indonesia and the world."
     },
     "metadata": {},
     "output_type": "display_data"
    }
   ],
   "execution_count": 18
  }
 ],
 "metadata": {
  "kernelspec": {
   "display_name": "Python 3 (ipykernel)",
   "language": "python",
   "name": "python3"
  },
  "language_info": {
   "codemirror_mode": {
    "name": "ipython",
    "version": 3
   },
   "file_extension": ".py",
   "mimetype": "text/x-python",
   "name": "python",
   "nbconvert_exporter": "python",
   "pygments_lexer": "ipython3",
   "version": "3.12.8"
  }
 },
 "nbformat": 4,
 "nbformat_minor": 5
}
