{
 "cells": [
  {
   "metadata": {
    "ExecuteTime": {
     "end_time": "2025-01-25T00:26:44.090013Z",
     "start_time": "2025-01-25T00:26:44.084963Z"
    }
   },
   "cell_type": "code",
   "source": [
    "from web_summarizer import WebSummarizer, ChatGPTSummarizer, OllamaSummarizer\n",
    "from IPython.display import Markdown, display"
   ],
   "id": "5a55269d38d161c4",
   "outputs": [],
   "execution_count": 9
  },
  {
   "metadata": {
    "ExecuteTime": {
     "end_time": "2025-01-25T00:26:45.013362Z",
     "start_time": "2025-01-25T00:26:45.001280Z"
    }
   },
   "cell_type": "code",
   "source": [
    "# url = \"https://www.prosigmaka.com\"\n",
    "# url = \"https://www.prodemy.id\"\n",
    "url = \"http://www.detik.com\"\n",
    "# url = \"http://www.tempo.co\"\n",
    "# url = \"https://www.kompas.com/\""
   ],
   "id": "bc8b571cfcf50665",
   "outputs": [],
   "execution_count": 10
  },
  {
   "metadata": {
    "ExecuteTime": {
     "end_time": "2025-01-25T00:27:46.843762Z",
     "start_time": "2025-01-25T00:27:39.737545Z"
    }
   },
   "cell_type": "code",
   "source": [
    "# ChatGPT Summarizer\n",
    "llm_summarizer = ChatGPTSummarizer()\n",
    "web_summarizer = WebSummarizer(url, llm_summarizer)\n",
    "summarized = web_summarizer.summarize()\n",
    "display(Markdown(summarized))"
   ],
   "id": "998a90adc97f531e",
   "outputs": [
    {
     "data": {
      "text/plain": [
       "<IPython.core.display.Markdown object>"
      ],
      "text/markdown": "# Summary of Detikcom\n\n**Website Title:** Detikcom - Informasi Berita Terkini dan Terbaru Hari Ini\n\nDetikcom is a news website providing up-to-date and reliable information on a variety of topics including current events, finance, technology, sports, and more. The site features articles categorized into sections like detikNews, detikFinance, detikSport, and others, catering to diverse interests.\n\n## Latest News Highlights\n- **Isa Zega Detained**: Following a case related to Information and Electronic Transactions (ITE), Nikita Mirzani was briefly a witness.\n- **SPBU Incident**: A 'cowboy' style incident where an individual threatened to shoot gas station personnel has resulted in their detention.\n- **Traffic Update**: The elevated toll road MBZ from Km 17-22 towards Cikampek is experiencing congestion due to a vehicle malfunction.\n- **Glenn Alinskie's Health**: The actor has undergone surgery for hypertrophy and is currently recovering.\n- **Tea Consumption in the UK**: A surprising statistic reveals that the UK consumes 53 million cups of tea every morning.\n\n## Other Noteworthy Updates\n- **Donald Trump and Kim Jong Un**: Discussions about their relationship reveal new dynamics in their latest interactions.\n- **Recent Sports News**: Kyle Walker has officially joined AC Milan and there are upcoming matches in the Indonesia Masters 2025.\n\nDetikcom also includes videos, photo stories, and trending topics to keep readers engaged with the latest happenings."
     },
     "metadata": {},
     "output_type": "display_data"
    }
   ],
   "execution_count": 12
  },
  {
   "metadata": {
    "ExecuteTime": {
     "end_time": "2025-01-25T00:27:39.728945Z",
     "start_time": "2025-01-25T00:26:49.483722Z"
    }
   },
   "cell_type": "code",
   "source": [
    "# Ollama Summarizer\n",
    "llm_summarizer = OllamaSummarizer()\n",
    "web_summarizer = WebSummarizer(url, llm_summarizer)\n",
    "summarized = web_summarizer.summarize()\n",
    "display(Markdown(summarized))"
   ],
   "id": "fdfe140b0432fc19",
   "outputs": [
    {
     "data": {
      "text/plain": [
       "<IPython.core.display.Markdown object>"
      ],
      "text/markdown": "Terdapat 5 berita terpopuler di situs detikNews yang disebutkan di atas. Berdasarkan judul-judul berita tersebut, dapat disimpulkan bahwa ada beberapa topik yang dipaparkan dalam berita-berita tersebut. Berikut adalah penjelasan singkat tentang setiap berita:\n\n1. \"Misteri Pemicu 2 Pria Sekamar Kosan Saling Tusuk di Priok\" - Berita ini membahas tentang kejadian yang melibatkan dua pria yang menyerang dan merahmati satu sama lain di sebuah kosan di Priok, Jakarta Selatan. Kedua pria tersebut kemudian ditembak oleh petugas keamanan kosan dan dibawa ke polisi.\n\n2. \"Prabowo Mampir ke Toko Buku Langganan di Sela Kunker ke India\" - Berita ini meliputi kunjungan Presiden Joko Widodo (Jokowi) kepada India, di mana dia membatalkan kunjungannya ke Pakistan dan mendarat di Bandar Udara Internasional Bengalurunya, India. Selama kunjungan tersebut, Prabowo juga mengunjungi toko buku langganan di Sela Kunker, kota yang terletak di negara bagian Karnataka, India.\n\n3. \"Ulah 'Koboi' Ancam Tembak Petugas SPBU Berujung Masuk Tahanan\" - Berita ini membahas tentang kejadian yang melibatkan seorang ulah yang menyerang dan merahmati petugas SPBU di sebuah kawasan perumahan. Ulah tersebut kemudian ditembak oleh petugas keamanan dan dibawa ke polisi.\n\n4. \"3 Striker Muda Australia Siap Debut, Jadi Ancaman Indonesia\" - Berita ini meliputi perspektif tentang kehadiran tiga striker muda dari Australia yang siap debut di pesta Liga, di mana mereka dapat menjadi ancaman bagi tim-tim lokal.\n\n5. \"Guardiola Jelaskan Alasan Man City Boyong Marmoush\" - Berita ini membahas tentang keputusan pemain Tim Nasional Indonesia untuk bergabung dengan klub PFA Inggris Manchester City dan mengapa mereka memilih klub tersebut."
     },
     "metadata": {},
     "output_type": "display_data"
    }
   ],
   "execution_count": 11
  }
 ],
 "metadata": {
  "kernelspec": {
   "display_name": "Python 3",
   "language": "python",
   "name": "python3"
  },
  "language_info": {
   "codemirror_mode": {
    "name": "ipython",
    "version": 2
   },
   "file_extension": ".py",
   "mimetype": "text/x-python",
   "name": "python",
   "nbconvert_exporter": "python",
   "pygments_lexer": "ipython2",
   "version": "2.7.6"
  }
 },
 "nbformat": 4,
 "nbformat_minor": 5
}
