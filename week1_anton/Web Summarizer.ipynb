{
 "cells": [
  {
   "metadata": {},
   "cell_type": "code",
   "source": [
    "import os\n",
    "import requests\n",
    "from dotenv import load_dotenv\n",
    "from bs4 import BeautifulSoup\n",
    "from IPython.display import Markdown, display\n",
    "from openai import OpenAI\n",
    "import ollama"
   ],
   "id": "5a55269d38d161c4",
   "outputs": [],
   "execution_count": null
  },
  {
   "metadata": {},
   "cell_type": "code",
   "source": [
    "class WebRetriever:\n",
    "    __HEADERS = {\n",
    "        \"User-Agent\": \"Mozilla/5.0 (Windows NT 10.0; Win64; x64) AppleWebKit/537.36 (KHTML, like Gecko) Chrome/117.0.0.0 Safari/537.36\"\n",
    "    }\n",
    "\n",
    "    __url = None\n",
    "    __res = None\n",
    "    __title = None\n",
    "    __body = None\n",
    "\n",
    "    def __init__(self, url):\n",
    "        self.__url = url\n",
    "\n",
    "    def __request(self):\n",
    "        self.__res = requests.get(self.__url, headers=self.__HEADERS)\n",
    "\n",
    "    def __parsing(self):\n",
    "        soup = BeautifulSoup(self.__res.content, \"html.parser\")\n",
    "        self.__title = soup.title.string if soup.title else \"No title found\"\n",
    "        for irrelevant in soup.body([\"script\", \"style\", \"img\", \"input\"]):\n",
    "            irrelevant.decompose()\n",
    "        self.__body = soup.body.get_text(separator=\"\\n\", strip=True)\n",
    "\n",
    "    def retrieve(self):\n",
    "        self.__request()\n",
    "        self.__parsing()\n",
    "\n",
    "        return self.__title, self.__body\n"
   ],
   "id": "a4ae88d60d35b6ec",
   "outputs": [],
   "execution_count": null
  },
  {
   "metadata": {},
   "cell_type": "code",
   "source": [
    "class LLMSummarizer:\n",
    "    __title = None\n",
    "    __body = None\n",
    "\n",
    "    def __init__(self):\n",
    "        pass\n",
    "\n",
    "    def set_title(self, title):\n",
    "        self.__title = title\n",
    "\n",
    "    def set_body(self, body):\n",
    "        self.__body = body\n",
    "\n",
    "    def __generate_system_prompt(self):\n",
    "        system_prompt = \"You are an assistant that analyzes the contents of a website and provides a short summary, ignoring text that might be navigation related. Respond in markdown.\"\n",
    "\n",
    "        return system_prompt\n",
    "\n",
    "    def __generate_user_prompt(self):\n",
    "        user_prompt = f\"You are looking at a website titled {self.__title}\"\n",
    "        user_prompt += \"\\nThe contents of this website is as follows; please provide a short summary of this website in markdown. If it includes news or announcements, then summarize these too.\\n\\n\"\n",
    "        user_prompt += self.__body\n",
    "\n",
    "        return user_prompt\n",
    "\n",
    "    def generate_message(self):\n",
    "        return [\n",
    "            {\"role\": \"system\", \"content\": self.__generate_system_prompt()},\n",
    "            {\"role\": \"user\", \"content\": self.__generate_user_prompt()},\n",
    "        ]\n",
    "\n",
    "    def summarize(self):\n",
    "        pass\n",
    "\n",
    "\n",
    "class ChatGPTSummarizer(LLMSummarizer):\n",
    "    __response = None\n",
    "    __openai = None\n",
    "\n",
    "    def __init__(self):\n",
    "        super().__init__()\n",
    "        load_dotenv()\n",
    "        api_key = os.getenv('OPENAI_API_KEY')\n",
    "        self.__openai = OpenAI()\n",
    "\n",
    "    def summarize(self):\n",
    "        self.__response = self.__openai.chat.completions.create(\n",
    "            model = \"gpt-4o-mini\",\n",
    "            messages = self.generate_message()\n",
    "        )\n",
    "\n",
    "        return self.__response.choices[0].message.content\n",
    "\n",
    "\n",
    "class OllamaSummarizer(LLMSummarizer):\n",
    "    __MODEL = \"llama3.2\"\n",
    "    __response = None\n",
    "\n",
    "    def __init__(self):\n",
    "        super().__init__()\n",
    "\n",
    "    def summarize(self):\n",
    "        self.__response = ollama.chat(model=self.__MODEL, messages=self.generate_message())\n",
    "\n",
    "        return self.__response['message']['content']\n"
   ],
   "id": "61066224d492f31",
   "outputs": [],
   "execution_count": null
  },
  {
   "cell_type": "code",
   "id": "initial_id",
   "metadata": {
    "collapsed": true
   },
   "source": [
    "class WebSummarizer:\n",
    "    __url = None\n",
    "    __web_retriever = None\n",
    "    __llm_summarizer = None\n",
    "\n",
    "    def __init__(self, url, llm_summarizer):\n",
    "        self.__url = url\n",
    "        self.__web_retriever = WebRetriever(url)\n",
    "        self.__llm_summarizer = llm_summarizer\n",
    "\n",
    "    def summarize(self):\n",
    "        title, body = self.__web_retriever.retrieve()\n",
    "        self.__llm_summarizer.set_title(title)\n",
    "        self.__llm_summarizer.set_body(body)\n",
    "\n",
    "        return self.__llm_summarizer.summarize()"
   ],
   "outputs": [],
   "execution_count": null
  },
  {
   "metadata": {
    "ExecuteTime": {
     "end_time": "2025-01-21T04:20:53.861011Z",
     "start_time": "2025-01-21T04:20:07.467824Z"
    }
   },
   "cell_type": "code",
   "source": [
    "# url = \"https://www.prosigmaka.com\"\n",
    "# url = \"https://www.prodemy.id\"\n",
    "url = \"http://www.detik.com\"\n",
    "# url = \"http://www.tempo.co\"\n",
    "# url = \"https://www.kompas.com/\"\n",
    "\n",
    "# ChatGPT Summarizer\n",
    "llm_summarizer = ChatGPTSummarizer()\n",
    "web_summarizer = WebSummarizer(url, llm_summarizer)\n",
    "summarized = web_summarizer.summarize()\n",
    "display(Markdown(summarized))\n",
    "\n",
    "print(\"\\n\" * 5)\n",
    "print(\"#\" * 180)\n",
    "print(\"\\n\" * 5)\n",
    "\n",
    "# Ollama Summarizer\n",
    "llm_summarizer = OllamaSummarizer()\n",
    "web_summarizer = WebSummarizer(url, llm_summarizer)\n",
    "summarized = web_summarizer.summarize()\n",
    "display(Markdown(summarized))"
   ],
   "id": "998a90adc97f531e",
   "outputs": [
    {
     "data": {
      "text/plain": [
       "<IPython.core.display.Markdown object>"
      ],
      "text/markdown": "# Summary of Detikcom\n\nDetikcom is an Indonesian news website that provides the latest and most reliable news across various categories, including politics, finance, health, and entertainment. The site features diverse sections such as DetikNews, DetikFinance, and DetikSport, catering to different interests.\n\n## Recent News Highlights:\n- **Donald Trump Policies**:\n  - Trump announced the U.S. withdrawal from the WHO and initiated a tariff war affecting neighboring economies.\n  - He also addressed various policies, including redefining gender recognition and rescinding Biden's Cuba policies.\n  - Trump has made controversial statements regarding the relocation of Gaza residents.\n\n- **Other Headlines**:\n  - A legislative meeting in Indonesia highlighted issues surrounding nutritious meals for school children.\n  - An update on the number of Tuberculosis cases in Indonesia, with significant findings in multiple regions.\n\n## Popular Topics:\nAnalytics show that discussions around Trump and ongoing social issues are trending, with significant user engagement in comments regarding political actions and decisions.\n\nDetikcom serves as a comprehensive news source, keeping users informed about both national and international events."
     },
     "metadata": {},
     "output_type": "display_data"
    },
    {
     "name": "stdout",
     "output_type": "stream",
     "text": [
      "\n",
      "\n",
      "\n",
      "\n",
      "\n",
      "\n",
      "####################################################################################################################################################################################\n",
      "\n",
      "\n",
      "\n",
      "\n",
      "\n",
      "\n"
     ]
    },
    {
     "data": {
      "text/plain": [
       "<IPython.core.display.Markdown object>"
      ],
      "text/markdown": "Berikut beberapa berita terpopuler yang terkait dengan topik yang Anda cari:\n\n1. \"Perang Tarif Dimulai! Trump Langsung 'Pukul' Ekonomi Tetangga\" - Berita ini mengenai pernyataan Presiden Amerika Serikat, Donald Trump, tentang menarik AS keluar dari Organisasi Kesehatan Dunia (WHO) dan mulai perang tarif terhadap negara-negara yang dia anggap tidak setuju dengan kebijaksanaannya.\n2. \"Trump Hanya Akui 2 Jenis Kelamin di AS, Larang Pergantian Gender\" - Berita ini mengenai kembali pernyataan Trump tentang larangan pergantian gender di Amerika Serikat, yang dianggap tidak sesuai dengan hak asasi manusia.\n3. \"Trump Cabut Kebijakan Era Biden soal Kuba hingga Pemukiman Tepi Barat\" - Berita ini mengenai kebijaksanaan Trump tentang membatalkan kebijakan era sebelumnya yang terkait dengan Kuba dan pemukiman tepi barat Amerika Serikat.\n4. \"Trump Kembalikan Nama Gunung McKinley, Ubah Teluk Meksiko Jadi Teluk Amerika\" - Berita ini mengenai perubahan nama gunung dan teluk oleh Trump, yang dianggap tidak sesuai dengan sejarah dan budaya Amerika Serikat.\n\nNamun, perlu diingat bahwa berita-berita tersebut mungkin tidak directly terkait dengan topik \"Makan Siang Gratis\" yang Anda cari."
     },
     "metadata": {},
     "output_type": "display_data"
    }
   ],
   "execution_count": 61
  }
 ],
 "metadata": {
  "kernelspec": {
   "display_name": "Python 3",
   "language": "python",
   "name": "python3"
  },
  "language_info": {
   "codemirror_mode": {
    "name": "ipython",
    "version": 2
   },
   "file_extension": ".py",
   "mimetype": "text/x-python",
   "name": "python",
   "nbconvert_exporter": "python",
   "pygments_lexer": "ipython2",
   "version": "2.7.6"
  }
 },
 "nbformat": 4,
 "nbformat_minor": 5
}
