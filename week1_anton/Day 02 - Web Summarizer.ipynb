{
 "cells": [
  {
   "metadata": {
    "ExecuteTime": {
     "end_time": "2025-01-25T02:10:36.212295Z",
     "start_time": "2025-01-25T02:10:36.208095Z"
    }
   },
   "cell_type": "code",
   "source": [
    "from IPython.display import Markdown, display\n",
    "\n",
    "from web_summarizer import WebSummarizer, ChatGPTSummarizer, OllamaSummarizer"
   ],
   "id": "5a55269d38d161c4",
   "outputs": [],
   "execution_count": 26
  },
  {
   "metadata": {
    "ExecuteTime": {
     "end_time": "2025-01-25T02:10:36.777219Z",
     "start_time": "2025-01-25T02:10:36.774509Z"
    }
   },
   "cell_type": "code",
   "source": [
    "url = \"https://www.prosigmaka.com\"\n",
    "# url = \"https://www.prodemy.id\"\n",
    "# url = \"https://www.detik.com\"\n",
    "# url = \"https://www.tempo.co\"\n",
    "# url = \"https://www.kompas.com/\""
   ],
   "id": "bc8b571cfcf50665",
   "outputs": [],
   "execution_count": 27
  },
  {
   "metadata": {
    "ExecuteTime": {
     "end_time": "2025-01-25T02:11:51.070574Z",
     "start_time": "2025-01-25T02:11:36.666093Z"
    }
   },
   "cell_type": "code",
   "source": [
    "# ChatGPT Summarizer\n",
    "llm_summarizer = ChatGPTSummarizer()\n",
    "web_summarizer = WebSummarizer(url=url, llm_summarizer=llm_summarizer)\n",
    "summarized = web_summarizer.summarize()\n",
    "display(Markdown(summarized))"
   ],
   "id": "998a90adc97f531e",
   "outputs": [
    {
     "data": {
      "text/plain": [
       "<IPython.core.display.Markdown object>"
      ],
      "text/markdown": "# Prosigmaka | Digital Talent Provider\n\nProsigmaka is a leading digital talent provider established in 2012, focused on delivering qualified software engineers and tech services to enhance business usability in Asia. The company emphasizes a broad portfolio, dedicated team, and responsive service for various industry sectors.\n\n## Services Offered\n- **Professional Service:** Offers qualified software engineers skilled in technologies such as React.js, Node.js, Golang, Java, .NET, PHP, and QA/QC.\n- **Head Hunter:** Specializes in finding ideal candidates for companies, ensuring tailored solutions.\n- **Software Managed Service:** Provides scrum teams and scrum masters with a commitment to service level agreements based on project velocity.\n- **Academy:** Offers IT-based education programs, including custom training with a flexible syllabus and schedule.\n- **Application Development:** Develops business applications using strict waterfall project management principles.\n\n## Vision\nTo be the leading provider of digital talent in Asia.\n\n## Why Choose Us?\n- Experienced professional team\n- Diverse technology skills\n- High-quality service\n\nFor inquiries, Prosigmaka can be contacted via their office located in Jakarta or through their email at info@prosigmaka.com."
     },
     "metadata": {},
     "output_type": "display_data"
    }
   ],
   "execution_count": 30
  },
  {
   "metadata": {},
   "cell_type": "code",
   "source": [
    "# Ollama Summarizer\n",
    "llm_summarizer = OllamaSummarizer()\n",
    "web_summarizer = WebSummarizer(url=url, llm_summarizer=llm_summarizer)\n",
    "summarized = web_summarizer.summarize()\n",
    "display(Markdown(summarized))"
   ],
   "id": "fdfe140b0432fc19",
   "outputs": [],
   "execution_count": null
  }
 ],
 "metadata": {
  "kernelspec": {
   "display_name": "Python 3",
   "language": "python",
   "name": "python3"
  },
  "language_info": {
   "codemirror_mode": {
    "name": "ipython",
    "version": 2
   },
   "file_extension": ".py",
   "mimetype": "text/x-python",
   "name": "python",
   "nbconvert_exporter": "python",
   "pygments_lexer": "ipython2",
   "version": "2.7.6"
  }
 },
 "nbformat": 4,
 "nbformat_minor": 5
}
